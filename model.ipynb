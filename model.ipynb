{
 "cells": [
  {
   "cell_type": "code",
   "execution_count": 216,
   "metadata": {},
   "outputs": [],
   "source": [
    "from sklearn.model_selection import GridSearchCV\n",
    "from sklearn.ensemble import RandomForestRegressor\n",
    "from sklearn.metrics import classification_report,confusion_matrix\n",
    "from sklearn.model_selection import train_test_split\n",
    "from sklearn.preprocessing import OneHotEncoder\n",
    "import pandas as pd\n",
    "import numpy as np\n",
    "from sklearn import metrics\n",
    "from sklearn.linear_model import LinearRegression\n",
    "from sklearn.linear_model import LogisticRegression"
   ]
  },
  {
   "cell_type": "code",
   "execution_count": 217,
   "metadata": {},
   "outputs": [],
   "source": [
    "path = \"./data_cleaned.csv\"\n",
    "data = pd.read_csv(path)"
   ]
  },
  {
   "cell_type": "code",
   "execution_count": 218,
   "metadata": {},
   "outputs": [],
   "source": [
    "nominal_columns = [\"type\",\"district\"]"
   ]
  },
  {
   "cell_type": "code",
   "execution_count": 219,
   "metadata": {},
   "outputs": [],
   "source": [
    "dummy_df = pd.get_dummies(data[nominal_columns], drop_first=False) \n",
    "data_df = pd.concat([data, dummy_df], axis=1)\n",
    "data_df = data_df.drop(nominal_columns, axis=1)"
   ]
  },
  {
   "cell_type": "code",
   "execution_count": 220,
   "metadata": {},
   "outputs": [
    {
     "data": {
      "text/html": [
       "<div>\n",
       "<style scoped>\n",
       "    .dataframe tbody tr th:only-of-type {\n",
       "        vertical-align: middle;\n",
       "    }\n",
       "\n",
       "    .dataframe tbody tr th {\n",
       "        vertical-align: top;\n",
       "    }\n",
       "\n",
       "    .dataframe thead th {\n",
       "        text-align: right;\n",
       "    }\n",
       "</style>\n",
       "<table border=\"1\" class=\"dataframe\">\n",
       "  <thead>\n",
       "    <tr style=\"text-align: right;\">\n",
       "      <th></th>\n",
       "      <th>type</th>\n",
       "      <th>district</th>\n",
       "      <th>timestamp</th>\n",
       "      <th>duration_hour</th>\n",
       "    </tr>\n",
       "  </thead>\n",
       "  <tbody>\n",
       "    <tr>\n",
       "      <th>0</th>\n",
       "      <td>['สะพาน']</td>\n",
       "      <td>สาทร</td>\n",
       "      <td>2021-09-26 05:03:52.594898+00:00</td>\n",
       "      <td>6068.222133</td>\n",
       "    </tr>\n",
       "    <tr>\n",
       "      <th>1</th>\n",
       "      <td>['ความสะอาด']</td>\n",
       "      <td>ประเวศ</td>\n",
       "      <td>2021-12-18 14:50:52.437512+00:00</td>\n",
       "      <td>4264.762677</td>\n",
       "    </tr>\n",
       "    <tr>\n",
       "      <th>2</th>\n",
       "      <td>['ท่อระบายน้ำ']</td>\n",
       "      <td>ประเวศ</td>\n",
       "      <td>2021-12-22 10:15:33.294829+00:00</td>\n",
       "      <td>4322.942139</td>\n",
       "    </tr>\n",
       "    <tr>\n",
       "      <th>3</th>\n",
       "      <td>['ความสะอาด']</td>\n",
       "      <td>ประเวศ</td>\n",
       "      <td>2021-12-28 03:59:06.003252+00:00</td>\n",
       "      <td>4706.848976</td>\n",
       "    </tr>\n",
       "    <tr>\n",
       "      <th>4</th>\n",
       "      <td>['สะพาน']</td>\n",
       "      <td>สาทร</td>\n",
       "      <td>2022-01-16 11:08:54.141813+00:00</td>\n",
       "      <td>3788.966330</td>\n",
       "    </tr>\n",
       "    <tr>\n",
       "      <th>...</th>\n",
       "      <td>...</td>\n",
       "      <td>...</td>\n",
       "      <td>...</td>\n",
       "      <td>...</td>\n",
       "    </tr>\n",
       "    <tr>\n",
       "      <th>103697</th>\n",
       "      <td>['ทางเท้า']</td>\n",
       "      <td>ราษฎร์บูรณะ</td>\n",
       "      <td>2023-05-16 11:13:58.680742+00:00</td>\n",
       "      <td>3.145034</td>\n",
       "    </tr>\n",
       "    <tr>\n",
       "      <th>103698</th>\n",
       "      <td>['ทางเท้า']</td>\n",
       "      <td>ราษฎร์บูรณะ</td>\n",
       "      <td>2023-05-16 11:16:13.611590+00:00</td>\n",
       "      <td>3.082024</td>\n",
       "    </tr>\n",
       "    <tr>\n",
       "      <th>103699</th>\n",
       "      <td>['ทางเท้า']</td>\n",
       "      <td>ราษฎร์บูรณะ</td>\n",
       "      <td>2023-05-16 11:18:30.176726+00:00</td>\n",
       "      <td>3.024274</td>\n",
       "    </tr>\n",
       "    <tr>\n",
       "      <th>103700</th>\n",
       "      <td>['ทางเท้า']</td>\n",
       "      <td>คลองเตย</td>\n",
       "      <td>2023-05-16 11:18:43.661156+00:00</td>\n",
       "      <td>2.218895</td>\n",
       "    </tr>\n",
       "    <tr>\n",
       "      <th>103701</th>\n",
       "      <td>['กีดขวาง']</td>\n",
       "      <td>ราษฎร์บูรณะ</td>\n",
       "      <td>2023-05-16 11:19:11.354931+00:00</td>\n",
       "      <td>2.986542</td>\n",
       "    </tr>\n",
       "  </tbody>\n",
       "</table>\n",
       "<p>103702 rows × 4 columns</p>\n",
       "</div>"
      ],
      "text/plain": [
       "                   type     district                         timestamp  \\\n",
       "0             ['สะพาน']         สาทร  2021-09-26 05:03:52.594898+00:00   \n",
       "1         ['ความสะอาด']       ประเวศ  2021-12-18 14:50:52.437512+00:00   \n",
       "2       ['ท่อระบายน้ำ']       ประเวศ  2021-12-22 10:15:33.294829+00:00   \n",
       "3         ['ความสะอาด']       ประเวศ  2021-12-28 03:59:06.003252+00:00   \n",
       "4             ['สะพาน']         สาทร  2022-01-16 11:08:54.141813+00:00   \n",
       "...                 ...          ...                               ...   \n",
       "103697      ['ทางเท้า']  ราษฎร์บูรณะ  2023-05-16 11:13:58.680742+00:00   \n",
       "103698      ['ทางเท้า']  ราษฎร์บูรณะ  2023-05-16 11:16:13.611590+00:00   \n",
       "103699      ['ทางเท้า']  ราษฎร์บูรณะ  2023-05-16 11:18:30.176726+00:00   \n",
       "103700      ['ทางเท้า']      คลองเตย  2023-05-16 11:18:43.661156+00:00   \n",
       "103701      ['กีดขวาง']  ราษฎร์บูรณะ  2023-05-16 11:19:11.354931+00:00   \n",
       "\n",
       "        duration_hour  \n",
       "0         6068.222133  \n",
       "1         4264.762677  \n",
       "2         4322.942139  \n",
       "3         4706.848976  \n",
       "4         3788.966330  \n",
       "...               ...  \n",
       "103697       3.145034  \n",
       "103698       3.082024  \n",
       "103699       3.024274  \n",
       "103700       2.218895  \n",
       "103701       2.986542  \n",
       "\n",
       "[103702 rows x 4 columns]"
      ]
     },
     "execution_count": 220,
     "metadata": {},
     "output_type": "execute_result"
    }
   ],
   "source": [
    "data"
   ]
  },
  {
   "cell_type": "code",
   "execution_count": 221,
   "metadata": {},
   "outputs": [],
   "source": [
    "y = data_df.pop('duration_hour')\n",
    "X = data_df.drop(\"timestamp\",axis = 1)\n",
    "X_train, X_test, y_train, y_test = train_test_split(X, y, test_size=0.2, random_state=2020)"
   ]
  },
  {
   "cell_type": "code",
   "execution_count": 222,
   "metadata": {},
   "outputs": [
    {
     "name": "stdout",
     "output_type": "stream",
     "text": [
      "(82961, 74)\n",
      "(20741, 74)\n",
      "(20741,)\n",
      "(82961,)\n"
     ]
    }
   ],
   "source": [
    "print(X_train.shape)\n",
    "print(X_test.shape)\n",
    "print(y_test.shape)\n",
    "print(y_train.shape)"
   ]
  },
  {
   "cell_type": "code",
   "execution_count": 223,
   "metadata": {},
   "outputs": [],
   "source": [
    "from sklearn.metrics import mean_squared_error\n"
   ]
  },
  {
   "cell_type": "code",
   "execution_count": 247,
   "metadata": {},
   "outputs": [],
   "source": [
    "# param_grid = {\n",
    "#     'bootstrap': [True,False],\n",
    "#     'max_depth': [40,60,80],\n",
    "#     'max_features': [10,20],\n",
    "#     'min_samples_leaf': [3,4,5],\n",
    "#     'min_samples_split': [12,24,36],\n",
    "#     'n_estimators': [120,200,400]\n",
    "# }\n",
    "# model = GridSearchCV(estimator=RandomForestRegressor(),param_grid= param_grid,cv=3,n_jobs=-1,verbose= 2) "
   ]
  },
  {
   "cell_type": "code",
   "execution_count": null,
   "metadata": {},
   "outputs": [],
   "source": [
    "model.fit(X_train, y_train)"
   ]
  },
  {
   "cell_type": "code",
   "execution_count": 249,
   "metadata": {},
   "outputs": [
    {
     "name": "stdout",
     "output_type": "stream",
     "text": [
      "Best param is\n",
      "{'bootstrap': False, 'max_depth': 40, 'max_features': 10, 'min_samples_leaf': 3, 'min_samples_split': 36, 'n_estimators': 120}\n"
     ]
    }
   ],
   "source": [
    "print('Best param is')\n",
    "print(model.best_params_)"
   ]
  },
  {
   "cell_type": "code",
   "execution_count": 254,
   "metadata": {},
   "outputs": [],
   "source": [
    "model_RF = RandomForestRegressor(bootstrap = False, max_depth = 40, max_features = 10, min_samples_leaf = 3, min_samples_split = 36, n_estimators = 120)\n"
   ]
  },
  {
   "cell_type": "code",
   "execution_count": 255,
   "metadata": {},
   "outputs": [
    {
     "data": {
      "text/html": [
       "<style>#sk-container-id-10 {color: black;background-color: white;}#sk-container-id-10 pre{padding: 0;}#sk-container-id-10 div.sk-toggleable {background-color: white;}#sk-container-id-10 label.sk-toggleable__label {cursor: pointer;display: block;width: 100%;margin-bottom: 0;padding: 0.3em;box-sizing: border-box;text-align: center;}#sk-container-id-10 label.sk-toggleable__label-arrow:before {content: \"▸\";float: left;margin-right: 0.25em;color: #696969;}#sk-container-id-10 label.sk-toggleable__label-arrow:hover:before {color: black;}#sk-container-id-10 div.sk-estimator:hover label.sk-toggleable__label-arrow:before {color: black;}#sk-container-id-10 div.sk-toggleable__content {max-height: 0;max-width: 0;overflow: hidden;text-align: left;background-color: #f0f8ff;}#sk-container-id-10 div.sk-toggleable__content pre {margin: 0.2em;color: black;border-radius: 0.25em;background-color: #f0f8ff;}#sk-container-id-10 input.sk-toggleable__control:checked~div.sk-toggleable__content {max-height: 200px;max-width: 100%;overflow: auto;}#sk-container-id-10 input.sk-toggleable__control:checked~label.sk-toggleable__label-arrow:before {content: \"▾\";}#sk-container-id-10 div.sk-estimator input.sk-toggleable__control:checked~label.sk-toggleable__label {background-color: #d4ebff;}#sk-container-id-10 div.sk-label input.sk-toggleable__control:checked~label.sk-toggleable__label {background-color: #d4ebff;}#sk-container-id-10 input.sk-hidden--visually {border: 0;clip: rect(1px 1px 1px 1px);clip: rect(1px, 1px, 1px, 1px);height: 1px;margin: -1px;overflow: hidden;padding: 0;position: absolute;width: 1px;}#sk-container-id-10 div.sk-estimator {font-family: monospace;background-color: #f0f8ff;border: 1px dotted black;border-radius: 0.25em;box-sizing: border-box;margin-bottom: 0.5em;}#sk-container-id-10 div.sk-estimator:hover {background-color: #d4ebff;}#sk-container-id-10 div.sk-parallel-item::after {content: \"\";width: 100%;border-bottom: 1px solid gray;flex-grow: 1;}#sk-container-id-10 div.sk-label:hover label.sk-toggleable__label {background-color: #d4ebff;}#sk-container-id-10 div.sk-serial::before {content: \"\";position: absolute;border-left: 1px solid gray;box-sizing: border-box;top: 0;bottom: 0;left: 50%;z-index: 0;}#sk-container-id-10 div.sk-serial {display: flex;flex-direction: column;align-items: center;background-color: white;padding-right: 0.2em;padding-left: 0.2em;position: relative;}#sk-container-id-10 div.sk-item {position: relative;z-index: 1;}#sk-container-id-10 div.sk-parallel {display: flex;align-items: stretch;justify-content: center;background-color: white;position: relative;}#sk-container-id-10 div.sk-item::before, #sk-container-id-10 div.sk-parallel-item::before {content: \"\";position: absolute;border-left: 1px solid gray;box-sizing: border-box;top: 0;bottom: 0;left: 50%;z-index: -1;}#sk-container-id-10 div.sk-parallel-item {display: flex;flex-direction: column;z-index: 1;position: relative;background-color: white;}#sk-container-id-10 div.sk-parallel-item:first-child::after {align-self: flex-end;width: 50%;}#sk-container-id-10 div.sk-parallel-item:last-child::after {align-self: flex-start;width: 50%;}#sk-container-id-10 div.sk-parallel-item:only-child::after {width: 0;}#sk-container-id-10 div.sk-dashed-wrapped {border: 1px dashed gray;margin: 0 0.4em 0.5em 0.4em;box-sizing: border-box;padding-bottom: 0.4em;background-color: white;}#sk-container-id-10 div.sk-label label {font-family: monospace;font-weight: bold;display: inline-block;line-height: 1.2em;}#sk-container-id-10 div.sk-label-container {text-align: center;}#sk-container-id-10 div.sk-container {/* jupyter's `normalize.less` sets `[hidden] { display: none; }` but bootstrap.min.css set `[hidden] { display: none !important; }` so we also need the `!important` here to be able to override the default hidden behavior on the sphinx rendered scikit-learn.org. See: https://github.com/scikit-learn/scikit-learn/issues/21755 */display: inline-block !important;position: relative;}#sk-container-id-10 div.sk-text-repr-fallback {display: none;}</style><div id=\"sk-container-id-10\" class=\"sk-top-container\"><div class=\"sk-text-repr-fallback\"><pre>RandomForestRegressor(bootstrap=False, max_depth=40, max_features=10,\n",
       "                      min_samples_leaf=3, min_samples_split=36,\n",
       "                      n_estimators=120)</pre><b>In a Jupyter environment, please rerun this cell to show the HTML representation or trust the notebook. <br />On GitHub, the HTML representation is unable to render, please try loading this page with nbviewer.org.</b></div><div class=\"sk-container\" hidden><div class=\"sk-item\"><div class=\"sk-estimator sk-toggleable\"><input class=\"sk-toggleable__control sk-hidden--visually\" id=\"sk-estimator-id-28\" type=\"checkbox\" checked><label for=\"sk-estimator-id-28\" class=\"sk-toggleable__label sk-toggleable__label-arrow\">RandomForestRegressor</label><div class=\"sk-toggleable__content\"><pre>RandomForestRegressor(bootstrap=False, max_depth=40, max_features=10,\n",
       "                      min_samples_leaf=3, min_samples_split=36,\n",
       "                      n_estimators=120)</pre></div></div></div></div></div>"
      ],
      "text/plain": [
       "RandomForestRegressor(bootstrap=False, max_depth=40, max_features=10,\n",
       "                      min_samples_leaf=3, min_samples_split=36,\n",
       "                      n_estimators=120)"
      ]
     },
     "execution_count": 255,
     "metadata": {},
     "output_type": "execute_result"
    }
   ],
   "source": [
    "model_RF.fit(X_train, y_train)"
   ]
  },
  {
   "cell_type": "code",
   "execution_count": 256,
   "metadata": {},
   "outputs": [],
   "source": [
    "predictions = model_RF.predict(X_test)"
   ]
  },
  {
   "cell_type": "code",
   "execution_count": 257,
   "metadata": {},
   "outputs": [
    {
     "name": "stdout",
     "output_type": "stream",
     "text": [
      "MAE: 1005.2393667588988\n",
      "MSE: 2108252.3864529743\n",
      "RMSE: 1451.9822266312265\n"
     ]
    }
   ],
   "source": [
    "print('MAE:', metrics.mean_absolute_error(y_test, predictions))\n",
    "print('MSE:', metrics.mean_squared_error(y_test, predictions))\n",
    "print('RMSE:', np.sqrt(metrics.mean_squared_error(y_test, predictions)))"
   ]
  },
  {
   "cell_type": "code",
   "execution_count": 258,
   "metadata": {},
   "outputs": [
    {
     "name": "stdout",
     "output_type": "stream",
     "text": [
      "[1110.92103373 1544.70069247  454.91804964  273.32528708  682.45927863\n",
      " 2190.54553336  436.12810217  586.22959781 2248.02082229 2796.89860679\n",
      "  572.01761185  572.01761185  581.81408261 2190.54553336 1036.57598612\n",
      " 1055.92929108  924.80872431 3042.02677903 1102.61880087 1798.9529583 ]\n"
     ]
    }
   ],
   "source": [
    "print(predictions[:20])"
   ]
  },
  {
   "cell_type": "code",
   "execution_count": 234,
   "metadata": {},
   "outputs": [
    {
     "data": {
      "text/plain": [
       "numpy.ndarray"
      ]
     },
     "execution_count": 234,
     "metadata": {},
     "output_type": "execute_result"
    }
   ],
   "source": [
    "type(predictions)"
   ]
  },
  {
   "cell_type": "code",
   "execution_count": 235,
   "metadata": {},
   "outputs": [
    {
     "data": {
      "text/plain": [
       "828.1250066290092"
      ]
     },
     "execution_count": 235,
     "metadata": {},
     "output_type": "execute_result"
    }
   ],
   "source": [
    "np.std(predictions)"
   ]
  },
  {
   "cell_type": "code",
   "execution_count": 236,
   "metadata": {},
   "outputs": [],
   "source": [
    "df_pred = pd.DataFrame(predictions)"
   ]
  },
  {
   "cell_type": "code",
   "execution_count": 237,
   "metadata": {},
   "outputs": [
    {
     "data": {
      "text/html": [
       "<div>\n",
       "<style scoped>\n",
       "    .dataframe tbody tr th:only-of-type {\n",
       "        vertical-align: middle;\n",
       "    }\n",
       "\n",
       "    .dataframe tbody tr th {\n",
       "        vertical-align: top;\n",
       "    }\n",
       "\n",
       "    .dataframe thead th {\n",
       "        text-align: right;\n",
       "    }\n",
       "</style>\n",
       "<table border=\"1\" class=\"dataframe\">\n",
       "  <thead>\n",
       "    <tr style=\"text-align: right;\">\n",
       "      <th></th>\n",
       "      <th>0</th>\n",
       "    </tr>\n",
       "  </thead>\n",
       "  <tbody>\n",
       "    <tr>\n",
       "      <th>0</th>\n",
       "      <td>1192.888903</td>\n",
       "    </tr>\n",
       "    <tr>\n",
       "      <th>1</th>\n",
       "      <td>1536.405063</td>\n",
       "    </tr>\n",
       "    <tr>\n",
       "      <th>2</th>\n",
       "      <td>419.329650</td>\n",
       "    </tr>\n",
       "    <tr>\n",
       "      <th>3</th>\n",
       "      <td>258.998648</td>\n",
       "    </tr>\n",
       "    <tr>\n",
       "      <th>4</th>\n",
       "      <td>676.800913</td>\n",
       "    </tr>\n",
       "    <tr>\n",
       "      <th>...</th>\n",
       "      <td>...</td>\n",
       "    </tr>\n",
       "    <tr>\n",
       "      <th>20736</th>\n",
       "      <td>394.721760</td>\n",
       "    </tr>\n",
       "    <tr>\n",
       "      <th>20737</th>\n",
       "      <td>119.885143</td>\n",
       "    </tr>\n",
       "    <tr>\n",
       "      <th>20738</th>\n",
       "      <td>1308.849264</td>\n",
       "    </tr>\n",
       "    <tr>\n",
       "      <th>20739</th>\n",
       "      <td>713.351231</td>\n",
       "    </tr>\n",
       "    <tr>\n",
       "      <th>20740</th>\n",
       "      <td>765.619827</td>\n",
       "    </tr>\n",
       "  </tbody>\n",
       "</table>\n",
       "<p>20741 rows × 1 columns</p>\n",
       "</div>"
      ],
      "text/plain": [
       "                 0\n",
       "0      1192.888903\n",
       "1      1536.405063\n",
       "2       419.329650\n",
       "3       258.998648\n",
       "4       676.800913\n",
       "...            ...\n",
       "20736   394.721760\n",
       "20737   119.885143\n",
       "20738  1308.849264\n",
       "20739   713.351231\n",
       "20740   765.619827\n",
       "\n",
       "[20741 rows x 1 columns]"
      ]
     },
     "execution_count": 237,
     "metadata": {},
     "output_type": "execute_result"
    }
   ],
   "source": [
    "df_pred"
   ]
  },
  {
   "cell_type": "code",
   "execution_count": 239,
   "metadata": {},
   "outputs": [
    {
     "data": {
      "text/plain": [
       "pandas.core.series.Series"
      ]
     },
     "execution_count": 239,
     "metadata": {},
     "output_type": "execute_result"
    }
   ],
   "source": [
    "type(y_test)"
   ]
  },
  {
   "cell_type": "code",
   "execution_count": 240,
   "metadata": {},
   "outputs": [],
   "source": [
    "y_test_df = y_test.to_frame()"
   ]
  },
  {
   "cell_type": "code",
   "execution_count": 241,
   "metadata": {},
   "outputs": [
    {
     "data": {
      "text/html": [
       "<div>\n",
       "<style scoped>\n",
       "    .dataframe tbody tr th:only-of-type {\n",
       "        vertical-align: middle;\n",
       "    }\n",
       "\n",
       "    .dataframe tbody tr th {\n",
       "        vertical-align: top;\n",
       "    }\n",
       "\n",
       "    .dataframe thead th {\n",
       "        text-align: right;\n",
       "    }\n",
       "</style>\n",
       "<table border=\"1\" class=\"dataframe\">\n",
       "  <thead>\n",
       "    <tr style=\"text-align: right;\">\n",
       "      <th></th>\n",
       "      <th>duration_hour</th>\n",
       "    </tr>\n",
       "  </thead>\n",
       "  <tbody>\n",
       "    <tr>\n",
       "      <th>69643</th>\n",
       "      <td>626.704563</td>\n",
       "    </tr>\n",
       "    <tr>\n",
       "      <th>57763</th>\n",
       "      <td>1495.540571</td>\n",
       "    </tr>\n",
       "    <tr>\n",
       "      <th>46397</th>\n",
       "      <td>0.557962</td>\n",
       "    </tr>\n",
       "    <tr>\n",
       "      <th>100579</th>\n",
       "      <td>89.882611</td>\n",
       "    </tr>\n",
       "    <tr>\n",
       "      <th>101957</th>\n",
       "      <td>1.409865</td>\n",
       "    </tr>\n",
       "    <tr>\n",
       "      <th>...</th>\n",
       "      <td>...</td>\n",
       "    </tr>\n",
       "    <tr>\n",
       "      <th>21750</th>\n",
       "      <td>17.964826</td>\n",
       "    </tr>\n",
       "    <tr>\n",
       "      <th>94209</th>\n",
       "      <td>33.775407</td>\n",
       "    </tr>\n",
       "    <tr>\n",
       "      <th>37746</th>\n",
       "      <td>122.782391</td>\n",
       "    </tr>\n",
       "    <tr>\n",
       "      <th>32736</th>\n",
       "      <td>479.500270</td>\n",
       "    </tr>\n",
       "    <tr>\n",
       "      <th>44901</th>\n",
       "      <td>4297.626306</td>\n",
       "    </tr>\n",
       "  </tbody>\n",
       "</table>\n",
       "<p>20741 rows × 1 columns</p>\n",
       "</div>"
      ],
      "text/plain": [
       "        duration_hour\n",
       "69643      626.704563\n",
       "57763     1495.540571\n",
       "46397        0.557962\n",
       "100579      89.882611\n",
       "101957       1.409865\n",
       "...               ...\n",
       "21750       17.964826\n",
       "94209       33.775407\n",
       "37746      122.782391\n",
       "32736      479.500270\n",
       "44901     4297.626306\n",
       "\n",
       "[20741 rows x 1 columns]"
      ]
     },
     "execution_count": 241,
     "metadata": {},
     "output_type": "execute_result"
    }
   ],
   "source": [
    "y_test_df"
   ]
  },
  {
   "cell_type": "code",
   "execution_count": null,
   "metadata": {},
   "outputs": [],
   "source": []
  }
 ],
 "metadata": {
  "kernelspec": {
   "display_name": "Python 3.10.10 64-bit",
   "language": "python",
   "name": "python3"
  },
  "language_info": {
   "codemirror_mode": {
    "name": "ipython",
    "version": 3
   },
   "file_extension": ".py",
   "mimetype": "text/x-python",
   "name": "python",
   "nbconvert_exporter": "python",
   "pygments_lexer": "ipython3",
   "version": "3.10.10"
  },
  "orig_nbformat": 4,
  "vscode": {
   "interpreter": {
    "hash": "bd385fe162c5ca0c84973b7dd5c518456272446b2b64e67c2a69f949ca7a1754"
   }
  }
 },
 "nbformat": 4,
 "nbformat_minor": 2
}
