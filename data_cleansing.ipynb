{
 "cells": [
  {
   "cell_type": "code",
   "execution_count": 36,
   "metadata": {},
   "outputs": [],
   "source": [
    "import pandas as pd\n",
    "import pyspark\n",
    "import matplotlib\n"
   ]
  },
  {
   "cell_type": "code",
   "execution_count": 73,
   "metadata": {},
   "outputs": [],
   "source": [
    "from datetime import datetime, timezone\n"
   ]
  },
  {
   "cell_type": "code",
   "execution_count": 109,
   "metadata": {},
   "outputs": [],
   "source": [
    "path = \"./bangkok_traffy.csv\"\n",
    "df = pd.read_csv(path)"
   ]
  },
  {
   "cell_type": "code",
   "execution_count": 110,
   "metadata": {},
   "outputs": [
    {
     "data": {
      "text/plain": [
       "(263687, 16)"
      ]
     },
     "execution_count": 110,
     "metadata": {},
     "output_type": "execute_result"
    }
   ],
   "source": [
    "df.shape"
   ]
  },
  {
   "cell_type": "code",
   "execution_count": 111,
   "metadata": {},
   "outputs": [
    {
     "data": {
      "text/plain": [
       "(197860, 16)"
      ]
     },
     "execution_count": 111,
     "metadata": {},
     "output_type": "execute_result"
    }
   ],
   "source": [
    "df_type = df[df[\"state\"] == \"เสร็จสิ้น\"]\n",
    "df_type.shape"
   ]
  },
  {
   "cell_type": "code",
   "execution_count": 112,
   "metadata": {},
   "outputs": [
    {
     "data": {
      "text/plain": [
       "กรุงเทพมหานคร                   181941\n",
       "จังหวัดกรุงเทพมหานคร             15816\n",
       "สมุทรปราการ                         47\n",
       "จังหวัดจังหวัด กรุงเทพมหานคร         8\n",
       "นนทบุรี                              5\n",
       "จังหวัดLac                           5\n",
       "จังหวัดปทุมธานี                      4\n",
       "ปทุมธานี                             3\n",
       "ภูเก็ต                               3\n",
       "จังหวัดนนทบุรี                       3\n",
       "จังหวัดสมุทรปราการ                   3\n",
       "ตาก                                  2\n",
       "จังหวัดสมุทรสาคร                     2\n",
       "ลำพูน                                1\n",
       "ศรีสะเกษ                             1\n",
       "จังหวัดพระนครศรีอยุธยา               1\n",
       "สมุทรสงคราม                          1\n",
       "นครสวรรค์                            1\n",
       "จังหวัดฉะเชิงเทรา                    1\n",
       "ขอนแก่น                              1\n",
       "จังหวัดBangkok                       1\n",
       "นครปฐม                               1\n",
       "จังหวัดจังหวัดกรุงเทพมหานคร          1\n",
       "จังหวัดจ.ฉะเชิงเทรา                  1\n",
       "พิษณุโลก                             1\n",
       "Name: province, dtype: int64"
      ]
     },
     "execution_count": 112,
     "metadata": {},
     "output_type": "execute_result"
    }
   ],
   "source": [
    "df_type[\"province\"].value_counts()"
   ]
  },
  {
   "cell_type": "code",
   "execution_count": 113,
   "metadata": {},
   "outputs": [],
   "source": [
    "bangkok = [\"กรุงเทพมหานคร\",\"จังหวัดกรุงเทพมหานคร\",\"จังหวัดจังหวัด กรุงเทพมหานคร\",\"จังหวัดBangkok\",\"จังหวัดจังหวัดกรุงเทพมหานคร\"]"
   ]
  },
  {
   "cell_type": "code",
   "execution_count": 114,
   "metadata": {},
   "outputs": [
    {
     "name": "stderr",
     "output_type": "stream",
     "text": [
      "/var/folders/rd/2kcwkt39359dzbbccdlxtgsm0000gn/T/ipykernel_6000/1070282014.py:2: SettingWithCopyWarning: \n",
      "A value is trying to be set on a copy of a slice from a DataFrame.\n",
      "Try using .loc[row_indexer,col_indexer] = value instead\n",
      "\n",
      "See the caveats in the documentation: https://pandas.pydata.org/pandas-docs/stable/user_guide/indexing.html#returning-a-view-versus-a-copy\n",
      "  df_type_pro[\"province\"] = \"กรุงเทพมหานคร\"\n"
     ]
    }
   ],
   "source": [
    "df_type_pro = df_type[df_type[\"province\"].isin(bangkok)]\n",
    "df_type_pro[\"province\"] = \"กรุงเทพมหานคร\""
   ]
  },
  {
   "cell_type": "code",
   "execution_count": 115,
   "metadata": {},
   "outputs": [
    {
     "data": {
      "text/plain": [
       "(197767, 16)"
      ]
     },
     "execution_count": 115,
     "metadata": {},
     "output_type": "execute_result"
    }
   ],
   "source": [
    "df_type_pro.shape"
   ]
  },
  {
   "cell_type": "code",
   "execution_count": 116,
   "metadata": {},
   "outputs": [
    {
     "data": {
      "text/plain": [
       "1         2021-09-03 12:51:09.453003+00\n",
       "4         2021-09-19 14:56:08.924992+00\n",
       "10        2021-09-26 05:03:52.594898+00\n",
       "12        2021-10-14 10:45:27.713884+00\n",
       "25        2021-12-09 12:29:08.408763+00\n",
       "                      ...              \n",
       "263362    2023-04-29 09:34:36.606648+00\n",
       "263365    2023-04-29 09:43:58.409244+00\n",
       "263367    2023-04-29 09:45:51.407009+00\n",
       "263395    2023-04-29 10:49:41.286183+00\n",
       "263414    2023-04-29 11:27:33.326666+00\n",
       "Name: timestamp, Length: 197767, dtype: object"
      ]
     },
     "execution_count": 116,
     "metadata": {},
     "output_type": "execute_result"
    }
   ],
   "source": [
    "df_type_pro[\"timestamp\"]"
   ]
  },
  {
   "cell_type": "code",
   "execution_count": 117,
   "metadata": {},
   "outputs": [
    {
     "name": "stderr",
     "output_type": "stream",
     "text": [
      "/var/folders/rd/2kcwkt39359dzbbccdlxtgsm0000gn/T/ipykernel_6000/2917443762.py:1: SettingWithCopyWarning: \n",
      "A value is trying to be set on a copy of a slice from a DataFrame.\n",
      "Try using .loc[row_indexer,col_indexer] = value instead\n",
      "\n",
      "See the caveats in the documentation: https://pandas.pydata.org/pandas-docs/stable/user_guide/indexing.html#returning-a-view-versus-a-copy\n",
      "  df_type_pro[\"timestamp\"] = pd.to_datetime(df_type_pro[\"timestamp\"])\n",
      "/var/folders/rd/2kcwkt39359dzbbccdlxtgsm0000gn/T/ipykernel_6000/2917443762.py:2: SettingWithCopyWarning: \n",
      "A value is trying to be set on a copy of a slice from a DataFrame.\n",
      "Try using .loc[row_indexer,col_indexer] = value instead\n",
      "\n",
      "See the caveats in the documentation: https://pandas.pydata.org/pandas-docs/stable/user_guide/indexing.html#returning-a-view-versus-a-copy\n",
      "  df_type_pro[\"last_activity\"] = pd.to_datetime(df_type_pro[\"last_activity\"])\n"
     ]
    }
   ],
   "source": [
    "df_type_pro[\"timestamp\"] = pd.to_datetime(df_type_pro[\"timestamp\"])\n",
    "df_type_pro[\"last_activity\"] = pd.to_datetime(df_type_pro[\"last_activity\"])"
   ]
  },
  {
   "cell_type": "code",
   "execution_count": 118,
   "metadata": {},
   "outputs": [
    {
     "name": "stderr",
     "output_type": "stream",
     "text": [
      "/var/folders/rd/2kcwkt39359dzbbccdlxtgsm0000gn/T/ipykernel_6000/1075590955.py:1: SettingWithCopyWarning: \n",
      "A value is trying to be set on a copy of a slice from a DataFrame.\n",
      "Try using .loc[row_indexer,col_indexer] = value instead\n",
      "\n",
      "See the caveats in the documentation: https://pandas.pydata.org/pandas-docs/stable/user_guide/indexing.html#returning-a-view-versus-a-copy\n",
      "  df_type_pro[\"duration\"] = df_type_pro[\"last_activity\"]-df_type_pro[\"timestamp\"]\n"
     ]
    }
   ],
   "source": [
    "df_type_pro[\"duration\"] = df_type_pro[\"last_activity\"]-df_type_pro[\"timestamp\"]"
   ]
  },
  {
   "cell_type": "code",
   "execution_count": 119,
   "metadata": {},
   "outputs": [
    {
     "data": {
      "text/html": [
       "<div>\n",
       "<style scoped>\n",
       "    .dataframe tbody tr th:only-of-type {\n",
       "        vertical-align: middle;\n",
       "    }\n",
       "\n",
       "    .dataframe tbody tr th {\n",
       "        vertical-align: top;\n",
       "    }\n",
       "\n",
       "    .dataframe thead th {\n",
       "        text-align: right;\n",
       "    }\n",
       "</style>\n",
       "<table border=\"1\" class=\"dataframe\">\n",
       "  <thead>\n",
       "    <tr style=\"text-align: right;\">\n",
       "      <th></th>\n",
       "      <th>ticket_id</th>\n",
       "      <th>type</th>\n",
       "      <th>organization</th>\n",
       "      <th>comment</th>\n",
       "      <th>photo</th>\n",
       "      <th>photo_after</th>\n",
       "      <th>coords</th>\n",
       "      <th>address</th>\n",
       "      <th>subdistrict</th>\n",
       "      <th>district</th>\n",
       "      <th>province</th>\n",
       "      <th>timestamp</th>\n",
       "      <th>state</th>\n",
       "      <th>star</th>\n",
       "      <th>count_reopen</th>\n",
       "      <th>last_activity</th>\n",
       "      <th>duration</th>\n",
       "    </tr>\n",
       "  </thead>\n",
       "  <tbody>\n",
       "    <tr>\n",
       "      <th>1</th>\n",
       "      <td>2021-FYJTFP</td>\n",
       "      <td>{ความสะอาด}</td>\n",
       "      <td>เขตบางซื่อ</td>\n",
       "      <td>ขยะเยอะ</td>\n",
       "      <td>https://storage.googleapis.com/traffy_public_b...</td>\n",
       "      <td>NaN</td>\n",
       "      <td>100.53084,13.81865</td>\n",
       "      <td>12/14 ถนน กรุงเทพ- นนทบุรี แขวง บางซื่อ เขตบาง...</td>\n",
       "      <td>NaN</td>\n",
       "      <td>NaN</td>\n",
       "      <td>กรุงเทพมหานคร</td>\n",
       "      <td>2021-09-03 12:51:09.453003+00:00</td>\n",
       "      <td>เสร็จสิ้น</td>\n",
       "      <td>NaN</td>\n",
       "      <td>NaN</td>\n",
       "      <td>2022-06-04 15:34:14.609206+00:00</td>\n",
       "      <td>274 days 02:43:05.156203</td>\n",
       "    </tr>\n",
       "    <tr>\n",
       "      <th>4</th>\n",
       "      <td>2021-CGPMUN</td>\n",
       "      <td>{น้ำท่วม,ร้องเรียน}</td>\n",
       "      <td>เขตประเวศ,ฝ่ายโยธา เขตประเวศ</td>\n",
       "      <td>น้ำท่วมเวลาฝนตกและทะลุเข้าบ้านเดือดร้อนมากทุกๆ...</td>\n",
       "      <td>https://storage.googleapis.com/traffy_public_b...</td>\n",
       "      <td>https://storage.googleapis.com/traffy_public_b...</td>\n",
       "      <td>100.66709,13.67891</td>\n",
       "      <td>189 เฉลิมพระเกียรติ ร.9 แขวง หนองบอน เขต ประเว...</td>\n",
       "      <td>หนองบอน</td>\n",
       "      <td>ประเวศ</td>\n",
       "      <td>กรุงเทพมหานคร</td>\n",
       "      <td>2021-09-19 14:56:08.924992+00:00</td>\n",
       "      <td>เสร็จสิ้น</td>\n",
       "      <td>4.0</td>\n",
       "      <td>NaN</td>\n",
       "      <td>2022-06-21 08:21:09.532782+00:00</td>\n",
       "      <td>274 days 17:25:00.607790</td>\n",
       "    </tr>\n",
       "    <tr>\n",
       "      <th>10</th>\n",
       "      <td>2021-7XATFA</td>\n",
       "      <td>{สะพาน}</td>\n",
       "      <td>เขตสาทร</td>\n",
       "      <td>สะพานลอยปรับปรุงไม่เสร็จตามกำหนด\\nปากซอย สาทร12</td>\n",
       "      <td>https://storage.googleapis.com/traffy_public_b...</td>\n",
       "      <td>NaN</td>\n",
       "      <td>100.52649,13.72060</td>\n",
       "      <td>191/1 ถนน สาทรเหนือ แขวง สีลม เขตบางรัก กรุงเท...</td>\n",
       "      <td>ยานนาวา</td>\n",
       "      <td>สาทร</td>\n",
       "      <td>กรุงเทพมหานคร</td>\n",
       "      <td>2021-09-26 05:03:52.594898+00:00</td>\n",
       "      <td>เสร็จสิ้น</td>\n",
       "      <td>NaN</td>\n",
       "      <td>NaN</td>\n",
       "      <td>2022-06-06 01:17:12.272904+00:00</td>\n",
       "      <td>252 days 20:13:19.678006</td>\n",
       "    </tr>\n",
       "    <tr>\n",
       "      <th>12</th>\n",
       "      <td>2021-9U2NJT</td>\n",
       "      <td>{น้ำท่วม}</td>\n",
       "      <td>เขตบางซื่อ,ฝ่ายโยธา เขตบางซื่อ</td>\n",
       "      <td>น้ำท่วม</td>\n",
       "      <td>https://storage.googleapis.com/traffy_public_b...</td>\n",
       "      <td>https://storage.googleapis.com/traffy_public_b...</td>\n",
       "      <td>100.53099,13.81853</td>\n",
       "      <td>12/14 ถนน กรุงเทพ- นนทบุรี แขวง บางซื่อ เขตบาง...</td>\n",
       "      <td>NaN</td>\n",
       "      <td>NaN</td>\n",
       "      <td>กรุงเทพมหานคร</td>\n",
       "      <td>2021-10-14 10:45:27.713884+00:00</td>\n",
       "      <td>เสร็จสิ้น</td>\n",
       "      <td>NaN</td>\n",
       "      <td>NaN</td>\n",
       "      <td>2022-09-08 08:35:43.784519+00:00</td>\n",
       "      <td>328 days 21:50:16.070635</td>\n",
       "    </tr>\n",
       "    <tr>\n",
       "      <th>25</th>\n",
       "      <td>2021-DVEWYM</td>\n",
       "      <td>{น้ำท่วม,ถนน}</td>\n",
       "      <td>เขตลาดพร้าว,ฝ่ายโยธา เขตลาดพร้าว</td>\n",
       "      <td>ซอยลาดพร้าววังหิน 75 ถนนลาดพร้าววังหิน แขวงลาด...</td>\n",
       "      <td>https://storage.googleapis.com/traffy_public_b...</td>\n",
       "      <td>NaN</td>\n",
       "      <td>100.59165,13.82280</td>\n",
       "      <td>702 ถ. ลาดพร้าววังหิน แขวงลาดพร้าว เขตลาดพร้าว...</td>\n",
       "      <td>ลาดพร้าว</td>\n",
       "      <td>ลาดพร้าว</td>\n",
       "      <td>กรุงเทพมหานคร</td>\n",
       "      <td>2021-12-09 12:29:08.408763+00:00</td>\n",
       "      <td>เสร็จสิ้น</td>\n",
       "      <td>5.0</td>\n",
       "      <td>NaN</td>\n",
       "      <td>2022-08-12 07:18:44.884945+00:00</td>\n",
       "      <td>245 days 18:49:36.476182</td>\n",
       "    </tr>\n",
       "    <tr>\n",
       "      <th>...</th>\n",
       "      <td>...</td>\n",
       "      <td>...</td>\n",
       "      <td>...</td>\n",
       "      <td>...</td>\n",
       "      <td>...</td>\n",
       "      <td>...</td>\n",
       "      <td>...</td>\n",
       "      <td>...</td>\n",
       "      <td>...</td>\n",
       "      <td>...</td>\n",
       "      <td>...</td>\n",
       "      <td>...</td>\n",
       "      <td>...</td>\n",
       "      <td>...</td>\n",
       "      <td>...</td>\n",
       "      <td>...</td>\n",
       "      <td>...</td>\n",
       "    </tr>\n",
       "    <tr>\n",
       "      <th>263362</th>\n",
       "      <td>2023-7UPCVC</td>\n",
       "      <td>{}</td>\n",
       "      <td>เขตบางแค,สน.เพชรเกษม,สำนักงานตำรวจแห่งชาติ (Ro...</td>\n",
       "      <td>ผู้ปกครองใช้แรงงานเด็กเล็กไม่ถึง 5 ขวบ (ลูกของ...</td>\n",
       "      <td>https://storage.googleapis.com/traffy_public_b...</td>\n",
       "      <td>https://storage.googleapis.com/traffy_public_b...</td>\n",
       "      <td>100.42613,13.68691</td>\n",
       "      <td>179 ถนน บางแค แขวง บางแค เขตบางแค กรุงเทพมหานค...</td>\n",
       "      <td>บางแค</td>\n",
       "      <td>บางแค</td>\n",
       "      <td>กรุงเทพมหานคร</td>\n",
       "      <td>2023-04-29 09:34:36.606648+00:00</td>\n",
       "      <td>เสร็จสิ้น</td>\n",
       "      <td>3.0</td>\n",
       "      <td>0.0</td>\n",
       "      <td>2023-04-29 13:16:42.377954+00:00</td>\n",
       "      <td>0 days 03:42:05.771306</td>\n",
       "    </tr>\n",
       "    <tr>\n",
       "      <th>263365</th>\n",
       "      <td>2023-GXDPGW</td>\n",
       "      <td>{น้ำท่วม,ถนน,คลอง}</td>\n",
       "      <td>เขตทุ่งครุ,ฝ่ายโยธา เขตทุ่งครุ,กรมควบคุมมลพิษ</td>\n",
       "      <td>ตอนนี้ อบต. บ้านคลองสวนกำลังจะสร้างทางที่ไม่ได...</td>\n",
       "      <td>https://storage.googleapis.com/traffy_public_b...</td>\n",
       "      <td>https://storage.googleapis.com/traffy_public_b...</td>\n",
       "      <td>100.49533,13.60637</td>\n",
       "      <td>111/1 ประชาอุทิศ แขวง ทุ่งครุ เขตทุ่งครุ กรุงเ...</td>\n",
       "      <td>ทุ่งครุ</td>\n",
       "      <td>ทุ่งครุ</td>\n",
       "      <td>กรุงเทพมหานคร</td>\n",
       "      <td>2023-04-29 09:43:58.409244+00:00</td>\n",
       "      <td>เสร็จสิ้น</td>\n",
       "      <td>NaN</td>\n",
       "      <td>0.0</td>\n",
       "      <td>2023-04-29 12:51:42.264835+00:00</td>\n",
       "      <td>0 days 03:07:43.855591</td>\n",
       "    </tr>\n",
       "    <tr>\n",
       "      <th>263367</th>\n",
       "      <td>2023-624F87</td>\n",
       "      <td>{ถนน,น้ำท่วม,คลอง}</td>\n",
       "      <td>เขตทุ่งครุ,ฝ่ายโยธา เขตทุ่งครุ</td>\n",
       "      <td>ตอนนี้ อบต. บ้านคลองสวนกำลังจะสร้างทางที่ไม่ได...</td>\n",
       "      <td>https://storage.googleapis.com/traffy_public_b...</td>\n",
       "      <td>https://storage.googleapis.com/traffy_public_b...</td>\n",
       "      <td>100.49541,13.60631</td>\n",
       "      <td>117/1 ประชาอุทิศ แขวงทุ่งครุ เขตทุ่งครุ กรุงเท...</td>\n",
       "      <td>ทุ่งครุ</td>\n",
       "      <td>ทุ่งครุ</td>\n",
       "      <td>กรุงเทพมหานคร</td>\n",
       "      <td>2023-04-29 09:45:51.407009+00:00</td>\n",
       "      <td>เสร็จสิ้น</td>\n",
       "      <td>5.0</td>\n",
       "      <td>0.0</td>\n",
       "      <td>2023-04-29 12:52:15.380349+00:00</td>\n",
       "      <td>0 days 03:06:23.973340</td>\n",
       "    </tr>\n",
       "    <tr>\n",
       "      <th>263395</th>\n",
       "      <td>DF3DWD</td>\n",
       "      <td>{ถนน,กีดขวาง}</td>\n",
       "      <td>เขตราษฎร์บูรณะ</td>\n",
       "      <td>ปัญหามีการตั้งวางร้านขายของ รถเข็นกีดขวางช่วงเ...</td>\n",
       "      <td>https://storage.googleapis.com/traffy_public_b...</td>\n",
       "      <td>https://storage.googleapis.com/traffy_public_b...</td>\n",
       "      <td>100.49998,13.67698</td>\n",
       "      <td>Bang Pakaeo, Opposite Soi Suksawat, แขวงบางปะก...</td>\n",
       "      <td>บางปะกอก</td>\n",
       "      <td>ราษฎร์บูรณะ</td>\n",
       "      <td>กรุงเทพมหานคร</td>\n",
       "      <td>2023-04-29 10:49:41.286183+00:00</td>\n",
       "      <td>เสร็จสิ้น</td>\n",
       "      <td>NaN</td>\n",
       "      <td>0.0</td>\n",
       "      <td>2023-04-29 13:59:27.093814+00:00</td>\n",
       "      <td>0 days 03:09:45.807631</td>\n",
       "    </tr>\n",
       "    <tr>\n",
       "      <th>263414</th>\n",
       "      <td>2023-3TMB7L</td>\n",
       "      <td>{ป้าย,จราจร}</td>\n",
       "      <td>เขตห้วยขวาง,สำนักการจราจรและขนส่ง กรุงเทพมหานค...</td>\n",
       "      <td>บริเวณทางกลับรถบริเวณหน้าShow dc เป็นทางกลับรถ...</td>\n",
       "      <td>https://storage.googleapis.com/traffy_public_b...</td>\n",
       "      <td>https://storage.googleapis.com/traffy_public_b...</td>\n",
       "      <td>100.56949,13.75388</td>\n",
       "      <td>822 ถ. อโศก - ดินแดง แขวงบางกะปิ เขตห้วยขวาง ก...</td>\n",
       "      <td>บางกะปิ</td>\n",
       "      <td>ห้วยขวาง</td>\n",
       "      <td>กรุงเทพมหานคร</td>\n",
       "      <td>2023-04-29 11:27:33.326666+00:00</td>\n",
       "      <td>เสร็จสิ้น</td>\n",
       "      <td>5.0</td>\n",
       "      <td>0.0</td>\n",
       "      <td>2023-04-29 13:57:42.317084+00:00</td>\n",
       "      <td>0 days 02:30:08.990418</td>\n",
       "    </tr>\n",
       "  </tbody>\n",
       "</table>\n",
       "<p>197767 rows × 17 columns</p>\n",
       "</div>"
      ],
      "text/plain": [
       "          ticket_id                 type  \\\n",
       "1       2021-FYJTFP          {ความสะอาด}   \n",
       "4       2021-CGPMUN  {น้ำท่วม,ร้องเรียน}   \n",
       "10      2021-7XATFA              {สะพาน}   \n",
       "12      2021-9U2NJT            {น้ำท่วม}   \n",
       "25      2021-DVEWYM        {น้ำท่วม,ถนน}   \n",
       "...             ...                  ...   \n",
       "263362  2023-7UPCVC                   {}   \n",
       "263365  2023-GXDPGW   {น้ำท่วม,ถนน,คลอง}   \n",
       "263367  2023-624F87   {ถนน,น้ำท่วม,คลอง}   \n",
       "263395       DF3DWD        {ถนน,กีดขวาง}   \n",
       "263414  2023-3TMB7L         {ป้าย,จราจร}   \n",
       "\n",
       "                                             organization  \\\n",
       "1                                              เขตบางซื่อ   \n",
       "4                            เขตประเวศ,ฝ่ายโยธา เขตประเวศ   \n",
       "10                                                เขตสาทร   \n",
       "12                         เขตบางซื่อ,ฝ่ายโยธา เขตบางซื่อ   \n",
       "25                       เขตลาดพร้าว,ฝ่ายโยธา เขตลาดพร้าว   \n",
       "...                                                   ...   \n",
       "263362  เขตบางแค,สน.เพชรเกษม,สำนักงานตำรวจแห่งชาติ (Ro...   \n",
       "263365      เขตทุ่งครุ,ฝ่ายโยธา เขตทุ่งครุ,กรมควบคุมมลพิษ   \n",
       "263367                     เขตทุ่งครุ,ฝ่ายโยธา เขตทุ่งครุ   \n",
       "263395                                     เขตราษฎร์บูรณะ   \n",
       "263414  เขตห้วยขวาง,สำนักการจราจรและขนส่ง กรุงเทพมหานค...   \n",
       "\n",
       "                                                  comment  \\\n",
       "1                                                 ขยะเยอะ   \n",
       "4       น้ำท่วมเวลาฝนตกและทะลุเข้าบ้านเดือดร้อนมากทุกๆ...   \n",
       "10        สะพานลอยปรับปรุงไม่เสร็จตามกำหนด\\nปากซอย สาทร12   \n",
       "12                                                น้ำท่วม   \n",
       "25      ซอยลาดพร้าววังหิน 75 ถนนลาดพร้าววังหิน แขวงลาด...   \n",
       "...                                                   ...   \n",
       "263362  ผู้ปกครองใช้แรงงานเด็กเล็กไม่ถึง 5 ขวบ (ลูกของ...   \n",
       "263365  ตอนนี้ อบต. บ้านคลองสวนกำลังจะสร้างทางที่ไม่ได...   \n",
       "263367  ตอนนี้ อบต. บ้านคลองสวนกำลังจะสร้างทางที่ไม่ได...   \n",
       "263395  ปัญหามีการตั้งวางร้านขายของ รถเข็นกีดขวางช่วงเ...   \n",
       "263414  บริเวณทางกลับรถบริเวณหน้าShow dc เป็นทางกลับรถ...   \n",
       "\n",
       "                                                    photo  \\\n",
       "1       https://storage.googleapis.com/traffy_public_b...   \n",
       "4       https://storage.googleapis.com/traffy_public_b...   \n",
       "10      https://storage.googleapis.com/traffy_public_b...   \n",
       "12      https://storage.googleapis.com/traffy_public_b...   \n",
       "25      https://storage.googleapis.com/traffy_public_b...   \n",
       "...                                                   ...   \n",
       "263362  https://storage.googleapis.com/traffy_public_b...   \n",
       "263365  https://storage.googleapis.com/traffy_public_b...   \n",
       "263367  https://storage.googleapis.com/traffy_public_b...   \n",
       "263395  https://storage.googleapis.com/traffy_public_b...   \n",
       "263414  https://storage.googleapis.com/traffy_public_b...   \n",
       "\n",
       "                                              photo_after              coords  \\\n",
       "1                                                     NaN  100.53084,13.81865   \n",
       "4       https://storage.googleapis.com/traffy_public_b...  100.66709,13.67891   \n",
       "10                                                    NaN  100.52649,13.72060   \n",
       "12      https://storage.googleapis.com/traffy_public_b...  100.53099,13.81853   \n",
       "25                                                    NaN  100.59165,13.82280   \n",
       "...                                                   ...                 ...   \n",
       "263362  https://storage.googleapis.com/traffy_public_b...  100.42613,13.68691   \n",
       "263365  https://storage.googleapis.com/traffy_public_b...  100.49533,13.60637   \n",
       "263367  https://storage.googleapis.com/traffy_public_b...  100.49541,13.60631   \n",
       "263395  https://storage.googleapis.com/traffy_public_b...  100.49998,13.67698   \n",
       "263414  https://storage.googleapis.com/traffy_public_b...  100.56949,13.75388   \n",
       "\n",
       "                                                  address subdistrict  \\\n",
       "1       12/14 ถนน กรุงเทพ- นนทบุรี แขวง บางซื่อ เขตบาง...         NaN   \n",
       "4       189 เฉลิมพระเกียรติ ร.9 แขวง หนองบอน เขต ประเว...     หนองบอน   \n",
       "10      191/1 ถนน สาทรเหนือ แขวง สีลม เขตบางรัก กรุงเท...     ยานนาวา   \n",
       "12      12/14 ถนน กรุงเทพ- นนทบุรี แขวง บางซื่อ เขตบาง...         NaN   \n",
       "25      702 ถ. ลาดพร้าววังหิน แขวงลาดพร้าว เขตลาดพร้าว...    ลาดพร้าว   \n",
       "...                                                   ...         ...   \n",
       "263362  179 ถนน บางแค แขวง บางแค เขตบางแค กรุงเทพมหานค...       บางแค   \n",
       "263365  111/1 ประชาอุทิศ แขวง ทุ่งครุ เขตทุ่งครุ กรุงเ...     ทุ่งครุ   \n",
       "263367  117/1 ประชาอุทิศ แขวงทุ่งครุ เขตทุ่งครุ กรุงเท...     ทุ่งครุ   \n",
       "263395  Bang Pakaeo, Opposite Soi Suksawat, แขวงบางปะก...    บางปะกอก   \n",
       "263414  822 ถ. อโศก - ดินแดง แขวงบางกะปิ เขตห้วยขวาง ก...     บางกะปิ   \n",
       "\n",
       "           district       province                        timestamp  \\\n",
       "1               NaN  กรุงเทพมหานคร 2021-09-03 12:51:09.453003+00:00   \n",
       "4            ประเวศ  กรุงเทพมหานคร 2021-09-19 14:56:08.924992+00:00   \n",
       "10             สาทร  กรุงเทพมหานคร 2021-09-26 05:03:52.594898+00:00   \n",
       "12              NaN  กรุงเทพมหานคร 2021-10-14 10:45:27.713884+00:00   \n",
       "25         ลาดพร้าว  กรุงเทพมหานคร 2021-12-09 12:29:08.408763+00:00   \n",
       "...             ...            ...                              ...   \n",
       "263362        บางแค  กรุงเทพมหานคร 2023-04-29 09:34:36.606648+00:00   \n",
       "263365      ทุ่งครุ  กรุงเทพมหานคร 2023-04-29 09:43:58.409244+00:00   \n",
       "263367      ทุ่งครุ  กรุงเทพมหานคร 2023-04-29 09:45:51.407009+00:00   \n",
       "263395  ราษฎร์บูรณะ  กรุงเทพมหานคร 2023-04-29 10:49:41.286183+00:00   \n",
       "263414     ห้วยขวาง  กรุงเทพมหานคร 2023-04-29 11:27:33.326666+00:00   \n",
       "\n",
       "            state  star  count_reopen                    last_activity  \\\n",
       "1       เสร็จสิ้น   NaN           NaN 2022-06-04 15:34:14.609206+00:00   \n",
       "4       เสร็จสิ้น   4.0           NaN 2022-06-21 08:21:09.532782+00:00   \n",
       "10      เสร็จสิ้น   NaN           NaN 2022-06-06 01:17:12.272904+00:00   \n",
       "12      เสร็จสิ้น   NaN           NaN 2022-09-08 08:35:43.784519+00:00   \n",
       "25      เสร็จสิ้น   5.0           NaN 2022-08-12 07:18:44.884945+00:00   \n",
       "...           ...   ...           ...                              ...   \n",
       "263362  เสร็จสิ้น   3.0           0.0 2023-04-29 13:16:42.377954+00:00   \n",
       "263365  เสร็จสิ้น   NaN           0.0 2023-04-29 12:51:42.264835+00:00   \n",
       "263367  เสร็จสิ้น   5.0           0.0 2023-04-29 12:52:15.380349+00:00   \n",
       "263395  เสร็จสิ้น   NaN           0.0 2023-04-29 13:59:27.093814+00:00   \n",
       "263414  เสร็จสิ้น   5.0           0.0 2023-04-29 13:57:42.317084+00:00   \n",
       "\n",
       "                       duration  \n",
       "1      274 days 02:43:05.156203  \n",
       "4      274 days 17:25:00.607790  \n",
       "10     252 days 20:13:19.678006  \n",
       "12     328 days 21:50:16.070635  \n",
       "25     245 days 18:49:36.476182  \n",
       "...                         ...  \n",
       "263362   0 days 03:42:05.771306  \n",
       "263365   0 days 03:07:43.855591  \n",
       "263367   0 days 03:06:23.973340  \n",
       "263395   0 days 03:09:45.807631  \n",
       "263414   0 days 02:30:08.990418  \n",
       "\n",
       "[197767 rows x 17 columns]"
      ]
     },
     "execution_count": 119,
     "metadata": {},
     "output_type": "execute_result"
    }
   ],
   "source": [
    "df_type_pro"
   ]
  },
  {
   "cell_type": "code",
   "execution_count": 120,
   "metadata": {},
   "outputs": [
    {
     "data": {
      "text/plain": [
       "count                        197767\n",
       "mean     43 days 12:38:07.521801387\n",
       "std      68 days 19:36:05.771616225\n",
       "min          0 days 00:00:14.963721\n",
       "25%       1 days 20:32:04.490217500\n",
       "50%          8 days 08:01:26.318450\n",
       "75%         53 days 04:20:00.341129\n",
       "max        464 days 10:21:28.527899\n",
       "Name: duration, dtype: object"
      ]
     },
     "execution_count": 120,
     "metadata": {},
     "output_type": "execute_result"
    }
   ],
   "source": [
    "df_type_pro[\"duration\"].describe()"
   ]
  },
  {
   "cell_type": "code",
   "execution_count": 135,
   "metadata": {},
   "outputs": [],
   "source": [
    "df_type_pro = df_type_pro[df_type_pro[\"district\"].isnull() == False]\n",
    "df_type_pro = df_type_pro[df_type_pro[\"type\"].isnull() == False]\n",
    "df_type_pro = df_type_pro[df_type_pro[\"type\"] != \"{}\"]"
   ]
  },
  {
   "cell_type": "code",
   "execution_count": 136,
   "metadata": {},
   "outputs": [
    {
     "data": {
      "text/plain": [
       "(148967, 17)"
      ]
     },
     "execution_count": 136,
     "metadata": {},
     "output_type": "execute_result"
    }
   ],
   "source": [
    "df_type_pro.shape"
   ]
  },
  {
   "cell_type": "code",
   "execution_count": null,
   "metadata": {},
   "outputs": [],
   "source": []
  }
 ],
 "metadata": {
  "kernelspec": {
   "display_name": "Python 3.10.10 64-bit",
   "language": "python",
   "name": "python3"
  },
  "language_info": {
   "codemirror_mode": {
    "name": "ipython",
    "version": 3
   },
   "file_extension": ".py",
   "mimetype": "text/x-python",
   "name": "python",
   "nbconvert_exporter": "python",
   "pygments_lexer": "ipython3",
   "version": "3.10.10"
  },
  "orig_nbformat": 4,
  "vscode": {
   "interpreter": {
    "hash": "bd385fe162c5ca0c84973b7dd5c518456272446b2b64e67c2a69f949ca7a1754"
   }
  }
 },
 "nbformat": 4,
 "nbformat_minor": 2
}
